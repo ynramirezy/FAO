{
 "cells": [
  {
   "cell_type": "code",
   "execution_count": 104,
   "id": "9da0ed8f",
   "metadata": {},
   "outputs": [],
   "source": [
    "# Test GIS Developer\n",
    "\n",
    "#Point 1\n",
    "\n",
    "#Loading libraries\n",
    "import os, re\n",
    "from osgeo import gdal\n",
    "import numpy as np\n",
    "\n",
    "#Setting the dekad files in the given window\n",
    "path= r\"C:\\Users\\usuario\\OneDrive\\Desktop\\Test\"\n",
    "dir= os.listdir(path + \"\\\\rainfall_DB\")\n",
    "dekads=[]\n",
    "for file in dir:\n",
    "    if int(re.findall(r'\\d+', file)[1]) == 3 and int(re.findall(r'\\d+', file)[0])> 198812 and int(re.findall(r'\\d+', file)[0])< 202001:\n",
    "        dekads.append(path + \"\\\\rainfall_DB\\\\\" + file)\n",
    "        \n",
    "#Calculating the percentile 95\n",
    "file_rain = dekads\n",
    "raster_test = []\n",
    "for f in file_rain:\n",
    "    opening_raster = gdal.Open(f)\n",
    "    raster_test.append(opening_raster.ReadAsArray()) \n",
    "stacked = np.dstack(raster_test) \n",
    "percentile95 = np.percentile(stacked, 95, axis=-1)\n",
    "driver = gdal.GetDriverByName('GTiff')\n",
    "percentile95_raster = driver.CreateCopy(path + \"\\\\Percentile95_rainfall\\\\\" + 'Percentile95.tif', gdal.Open(file_paths[0]))\n",
    "percentile95_raster.GetRasterBand(1).WriteArray(percentile95)\n",
    "percentile95_raster = None\n",
    "blended_rainfall_20240303= path + \"\\\\rainfall_DB\\\\mozrfb202403d3.tif\"\n",
    "\n"
   ]
  }
 ],
 "metadata": {
  "kernelspec": {
   "display_name": "Python 3 (ipykernel)",
   "language": "python",
   "name": "python3"
  },
  "language_info": {
   "codemirror_mode": {
    "name": "ipython",
    "version": 3
   },
   "file_extension": ".py",
   "mimetype": "text/x-python",
   "name": "python",
   "nbconvert_exporter": "python",
   "pygments_lexer": "ipython3",
   "version": "3.9.18"
  }
 },
 "nbformat": 4,
 "nbformat_minor": 5
}
